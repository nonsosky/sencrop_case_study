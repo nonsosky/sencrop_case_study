{
 "cells": [
  {
   "cell_type": "markdown",
   "metadata": {},
   "source": [
    "### Importing Necessary Libraries"
   ]
  },
  {
   "cell_type": "code",
   "execution_count": 1,
   "metadata": {},
   "outputs": [],
   "source": [
    "import requests\n",
    "import json\n",
    "import pandas as pd\n",
    "from sqlalchemy import create_engine"
   ]
  },
  {
   "cell_type": "code",
   "execution_count": null,
   "metadata": {},
   "outputs": [
    {
     "name": "stdout",
     "output_type": "stream",
     "text": [
      "{'request': {'type': 'LatLon', 'query': 'Lat 6.51 and Lon 3.62', 'language': 'en', 'unit': 'm'}, 'location': {'name': 'Ikorodu', 'country': 'Nigeria', 'region': 'Lagos', 'lat': '6.617', 'lon': '3.517', 'timezone_id': 'Africa/Lagos', 'localtime': '2024-12-07 07:08', 'localtime_epoch': 1733555280, 'utc_offset': '1.0'}, 'current': {'observation_time': '06:08 AM', 'temperature': 25, 'weather_code': 113, 'weather_icons': ['https://cdn.worldweatheronline.com/images/wsymbols01_png_64/wsymbol_0001_sunny.png'], 'weather_descriptions': ['Sunny'], 'wind_speed': 5, 'wind_degree': 43, 'wind_dir': 'NE', 'pressure': 1011, 'precip': 0, 'humidity': 89, 'cloudcover': 0, 'feelslike': 27, 'uv_index': 0, 'visibility': 7, 'is_day': 'yes'}}\n"
     ]
    }
   ],
   "source": [
    "# Fetching the weather data of Ikorodu, Lagos, using Latitude & Longititude from weatherstack\n",
    "url = \"https://api.weatherstack.com/current?access_key=1c430a2a3754b54f17a4da33ab5fdfa6\"\n",
    "\n",
    "querystring = {\"query\":\"6.510739384596194, 3.6162058548917946\"}\n",
    "\n",
    "response = requests.get(url, params=querystring)\n",
    "\n",
    "print(response.json())"
   ]
  },
  {
   "cell_type": "code",
   "execution_count": 11,
   "metadata": {},
   "outputs": [],
   "source": [
    "# Write the json data into a json file\n",
    "data = response.json()\n",
    "\n",
    "filename = 'weather_report.json'\n",
    "\n",
    "with open(filename, 'w') as file:\n",
    "    json.dump(data, file, indent=4)"
   ]
  }
 ],
 "metadata": {
  "kernelspec": {
   "display_name": "base",
   "language": "python",
   "name": "python3"
  },
  "language_info": {
   "codemirror_mode": {
    "name": "ipython",
    "version": 3
   },
   "file_extension": ".py",
   "mimetype": "text/x-python",
   "name": "python",
   "nbconvert_exporter": "python",
   "pygments_lexer": "ipython3",
   "version": "3.12.4"
  }
 },
 "nbformat": 4,
 "nbformat_minor": 2
}
