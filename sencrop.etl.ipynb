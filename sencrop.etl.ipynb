{
 "cells": [
  {
   "cell_type": "markdown",
   "metadata": {},
   "source": [
    "### Importing Necessary Libraries"
   ]
  },
  {
   "cell_type": "code",
   "execution_count": 42,
   "metadata": {},
   "outputs": [
    {
     "name": "stdout",
     "output_type": "stream",
     "text": [
      "Requirement already satisfied: python-dotenv in c:\\users\\nonso\\anaconda3\\lib\\site-packages (0.21.0)\n"
     ]
    }
   ],
   "source": [
    "!pip install python-dotenv"
   ]
  },
  {
   "cell_type": "code",
   "execution_count": 44,
   "metadata": {},
   "outputs": [],
   "source": [
    "import requests\n",
    "import json\n",
    "import pandas as pd\n",
    "import psycopg2\n",
    "from dotenv import load_dotenv\n",
    "import os"
   ]
  },
  {
   "cell_type": "code",
   "execution_count": 45,
   "metadata": {},
   "outputs": [
    {
     "name": "stdout",
     "output_type": "stream",
     "text": [
      "{'request': {'type': 'LatLon', 'query': 'Lat 6.51 and Lon 3.62', 'language': 'en', 'unit': 'm'}, 'location': {'name': 'Ikorodu', 'country': 'Nigeria', 'region': 'Lagos', 'lat': '6.617', 'lon': '3.517', 'timezone_id': 'Africa/Lagos', 'localtime': '2024-12-07 18:12', 'localtime_epoch': 1733595120, 'utc_offset': '1.0'}, 'current': {'observation_time': '05:12 PM', 'temperature': 31, 'weather_code': 113, 'weather_icons': ['https://cdn.worldweatheronline.com/images/wsymbols01_png_64/wsymbol_0001_sunny.png'], 'weather_descriptions': ['Sunny'], 'wind_speed': 17, 'wind_degree': 183, 'wind_dir': 'S', 'pressure': 1010, 'precip': 0, 'humidity': 59, 'cloudcover': 0, 'feelslike': 37, 'uv_index': 0, 'visibility': 8, 'is_day': 'yes'}}\n"
     ]
    }
   ],
   "source": [
    "load_dotenv()  # Load the .env file\n",
    "api_key = os.getenv(\"WEATHERSTACK_API_KEY\")\n",
    "if not api_key:\n",
    "    raise ValueError(\"API key not found. Check your .env file.\")\n",
    "\n",
    "\n",
    "# Fetching the weather data of Ikorodu, Lagos, using Latitude & Longititude from weatherstack\n",
    "url = f\"https://api.weatherstack.com/current?access_key={api_key}\"\n",
    "\n",
    "querystring = {\"query\":\"6.510739384596194, 3.6162058548917946\"}\n",
    "\n",
    "response = requests.get(url, params=querystring)\n",
    "\n",
    "print(response.json())"
   ]
  },
  {
   "cell_type": "code",
   "execution_count": 4,
   "metadata": {},
   "outputs": [],
   "source": [
    "# Write the json data into a json file\n",
    "data = response.json()\n",
    "\n",
    "filename = 'weather_report.json'\n",
    "\n",
    "with open(filename, 'w') as file:\n",
    "    json.dump(data, file, indent=4)"
   ]
  },
  {
   "cell_type": "markdown",
   "metadata": {},
   "source": [
    "### Data Cleaning and Transformation"
   ]
  },
  {
   "cell_type": "code",
   "execution_count": 5,
   "metadata": {},
   "outputs": [],
   "source": [
    "# Load JSON data from file\n",
    "with open(\"weather_report.json\", \"r\") as file:\n",
    "    data = json.load(file)\n",
    "\n",
    "# Preprocess arrays by flattening them into strings\n",
    "def flatten_arrays(obj):\n",
    "    if isinstance(obj, dict):\n",
    "        return {k: flatten_arrays(v) for k, v in obj.items()}\n",
    "    elif isinstance(obj, list):\n",
    "        return ', '.join(map(str, obj))  # Convert lists to comma-separated strings\n",
    "    return obj\n",
    "\n",
    "# Flatten arrays in the JSON\n",
    "data_flattened = flatten_arrays(data)\n",
    "\n",
    "# Normalize the JSON data into a flat DataFrame\n",
    "df = pd.json_normalize(data_flattened)\n",
    "\n",
    "# Save to a CSV file\n",
    "#df.to_csv(\"weather_data.csv\", index=False)"
   ]
  },
  {
   "cell_type": "code",
   "execution_count": 61,
   "metadata": {},
   "outputs": [
    {
     "data": {
      "text/html": [
       "<div>\n",
       "<style scoped>\n",
       "    .dataframe tbody tr th:only-of-type {\n",
       "        vertical-align: middle;\n",
       "    }\n",
       "\n",
       "    .dataframe tbody tr th {\n",
       "        vertical-align: top;\n",
       "    }\n",
       "\n",
       "    .dataframe thead th {\n",
       "        text-align: right;\n",
       "    }\n",
       "</style>\n",
       "<table border=\"1\" class=\"dataframe\">\n",
       "  <thead>\n",
       "    <tr style=\"text-align: right;\">\n",
       "      <th></th>\n",
       "      <th>request.type</th>\n",
       "      <th>request.query</th>\n",
       "      <th>request.language</th>\n",
       "      <th>request.unit</th>\n",
       "      <th>location.name</th>\n",
       "      <th>location.country</th>\n",
       "      <th>location.region</th>\n",
       "      <th>location.lat</th>\n",
       "      <th>location.lon</th>\n",
       "      <th>location.timezone_id</th>\n",
       "      <th>...</th>\n",
       "      <th>current.wind_degree</th>\n",
       "      <th>current.wind_dir</th>\n",
       "      <th>current.pressure</th>\n",
       "      <th>current.precip</th>\n",
       "      <th>current.humidity</th>\n",
       "      <th>current.cloudcover</th>\n",
       "      <th>current.feelslike</th>\n",
       "      <th>current.uv_index</th>\n",
       "      <th>current.visibility</th>\n",
       "      <th>current.is_day</th>\n",
       "    </tr>\n",
       "  </thead>\n",
       "  <tbody>\n",
       "    <tr>\n",
       "      <th>0</th>\n",
       "      <td>LatLon</td>\n",
       "      <td>Lat 6.51 and Lon 3.62</td>\n",
       "      <td>en</td>\n",
       "      <td>m</td>\n",
       "      <td>Ikorodu</td>\n",
       "      <td>Nigeria</td>\n",
       "      <td>Lagos</td>\n",
       "      <td>6.617</td>\n",
       "      <td>3.517</td>\n",
       "      <td>Africa/Lagos</td>\n",
       "      <td>...</td>\n",
       "      <td>43</td>\n",
       "      <td>NE</td>\n",
       "      <td>1011</td>\n",
       "      <td>0</td>\n",
       "      <td>89</td>\n",
       "      <td>0</td>\n",
       "      <td>27</td>\n",
       "      <td>0</td>\n",
       "      <td>7</td>\n",
       "      <td>yes</td>\n",
       "    </tr>\n",
       "  </tbody>\n",
       "</table>\n",
       "<p>1 rows × 29 columns</p>\n",
       "</div>"
      ],
      "text/plain": [
       "  request.type          request.query request.language request.unit  \\\n",
       "0       LatLon  Lat 6.51 and Lon 3.62               en            m   \n",
       "\n",
       "  location.name location.country location.region location.lat location.lon  \\\n",
       "0       Ikorodu          Nigeria           Lagos        6.617        3.517   \n",
       "\n",
       "  location.timezone_id  ... current.wind_degree  current.wind_dir  \\\n",
       "0         Africa/Lagos  ...                  43                NE   \n",
       "\n",
       "  current.pressure current.precip  current.humidity  current.cloudcover  \\\n",
       "0             1011              0                89                   0   \n",
       "\n",
       "  current.feelslike current.uv_index  current.visibility  current.is_day  \n",
       "0                27                0                   7             yes  \n",
       "\n",
       "[1 rows x 29 columns]"
      ]
     },
     "execution_count": 61,
     "metadata": {},
     "output_type": "execute_result"
    }
   ],
   "source": [
    "df.head()"
   ]
  },
  {
   "cell_type": "code",
   "execution_count": 62,
   "metadata": {},
   "outputs": [
    {
     "data": {
      "text/plain": [
       "Index(['request.type', 'request.query', 'request.language', 'request.unit',\n",
       "       'location.name', 'location.country', 'location.region', 'location.lat',\n",
       "       'location.lon', 'location.timezone_id', 'location.localtime',\n",
       "       'location.localtime_epoch', 'location.utc_offset',\n",
       "       'current.observation_time', 'current.temperature',\n",
       "       'current.weather_code', 'current.weather_icons',\n",
       "       'current.weather_descriptions', 'current.wind_speed',\n",
       "       'current.wind_degree', 'current.wind_dir', 'current.pressure',\n",
       "       'current.precip', 'current.humidity', 'current.cloudcover',\n",
       "       'current.feelslike', 'current.uv_index', 'current.visibility',\n",
       "       'current.is_day'],\n",
       "      dtype='object')"
      ]
     },
     "execution_count": 62,
     "metadata": {},
     "output_type": "execute_result"
    }
   ],
   "source": [
    "df.columns"
   ]
  },
  {
   "cell_type": "code",
   "execution_count": 6,
   "metadata": {},
   "outputs": [],
   "source": [
    "# Rename Columns\n",
    "df.rename(columns={\n",
    "    'location.name' : 'location_name',\n",
    "    'location.country' : 'country',\n",
    "    'location.region' : 'region',\n",
    "    'location.lat' : 'latitude',\n",
    "    'location.lon' : 'longititude',\n",
    "    'location.timezone_id' : 'timezone_id',\n",
    "    'location.localtime' : 'localtime',\n",
    "    'location.localtime_epoch' : 'localtime_epoch',\n",
    "    'location.utc_offset' : 'utc_offset',\n",
    "    'current.observation_time' : 'observation_time',\n",
    "    'current.temperature' : 'temperature',\n",
    "    'current.weather_code' : 'weather_code',\n",
    "    'current.weather_icons' : 'weather_icons',\n",
    "    'current.weather_descriptions' : 'weather_descriptions',\n",
    "    'current.wind_speed' : 'wind_speed',\n",
    "    'current.wind_degree' : 'wind_degree',\n",
    "    'current.wind_dir' : 'wind_dir',\n",
    "    'current.pressure' : 'pressure',\n",
    "    'current.precip' : 'precip',\n",
    "    'current.humidity' : 'humidity',\n",
    "    'current.cloudcover' : 'cloudcover',\n",
    "    'current.feelslike' : 'feelslike',\n",
    "    'current.uv_index' : 'uv_index',\n",
    "    'current.visibility' : 'visibility',\n",
    "    'current.is_day' : 'is_day'\n",
    "}, inplace=True)"
   ]
  },
  {
   "cell_type": "code",
   "execution_count": 7,
   "metadata": {},
   "outputs": [
    {
     "data": {
      "text/plain": [
       "Index(['request.type', 'request.query', 'request.language', 'request.unit',\n",
       "       'location_name', 'country', 'region', 'latitude', 'longititude',\n",
       "       'timezone_id', 'localtime', 'localtime_epoch', 'utc_offset',\n",
       "       'observation_time', 'temperature', 'weather_code', 'weather_icons',\n",
       "       'weather_descriptions', 'wind_speed', 'wind_degree', 'wind_dir',\n",
       "       'pressure', 'precip', 'humidity', 'cloudcover', 'feelslike', 'uv_index',\n",
       "       'visibility', 'is_day'],\n",
       "      dtype='object')"
      ]
     },
     "execution_count": 7,
     "metadata": {},
     "output_type": "execute_result"
    }
   ],
   "source": [
    "df.columns"
   ]
  },
  {
   "cell_type": "code",
   "execution_count": 8,
   "metadata": {},
   "outputs": [],
   "source": [
    "#Convert LocalTime datatype to date\n",
    "df['localtime'] = pd.to_datetime(df['localtime'])"
   ]
  },
  {
   "cell_type": "code",
   "execution_count": 9,
   "metadata": {},
   "outputs": [],
   "source": [
    "# Take Necessary data\n",
    "data_df = df[['location_name', 'country', 'region', 'latitude', 'longititude',\n",
    "       'timezone_id', 'localtime', 'localtime_epoch', 'utc_offset',\n",
    "       'observation_time', 'temperature', 'weather_code', 'weather_icons',\n",
    "       'weather_descriptions', 'wind_speed', 'wind_degree', 'wind_dir',\n",
    "       'pressure', 'precip', 'humidity', 'cloudcover', 'feelslike', 'uv_index',\n",
    "       'visibility', 'is_day']]"
   ]
  },
  {
   "cell_type": "code",
   "execution_count": 85,
   "metadata": {},
   "outputs": [
    {
     "data": {
      "text/plain": [
       "Index(['location_name', 'country', 'region', 'latitude', 'longititude',\n",
       "       'timezone_id', 'localtime', 'localtime_epoch', 'utc_offset',\n",
       "       'observation_time', 'temperature', 'weather_code', 'weather_icons',\n",
       "       'weather_descriptions', 'wind_speed', 'wind_degree', 'wind_dir',\n",
       "       'pressure', 'precip', 'humidity', 'cloudcover', 'feelslike', 'uv_index',\n",
       "       'visibility', 'is_day'],\n",
       "      dtype='object')"
      ]
     },
     "execution_count": 85,
     "metadata": {},
     "output_type": "execute_result"
    }
   ],
   "source": [
    "#data_df.head()\n",
    "data_df.columns"
   ]
  },
  {
   "cell_type": "code",
   "execution_count": 11,
   "metadata": {},
   "outputs": [
    {
     "name": "stderr",
     "output_type": "stream",
     "text": [
      "C:\\Users\\Nonso\\AppData\\Local\\Temp\\ipykernel_14244\\2884024703.py:4: SettingWithCopyWarning: \n",
      "A value is trying to be set on a copy of a slice from a DataFrame.\n",
      "Try using .loc[row_indexer,col_indexer] = value instead\n",
      "\n",
      "See the caveats in the documentation: https://pandas.pydata.org/pandas-docs/stable/user_guide/indexing.html#returning-a-view-versus-a-copy\n",
      "  location['location_id'] = range(1, len(location) + 1)\n"
     ]
    }
   ],
   "source": [
    "#Location Table\n",
    "location = data_df[['location_name', 'country', 'region', 'latitude', 'longititude','timezone_id']].copy().reset_index(drop=True)\n",
    "location['location_id'] = range(1, len(location) + 1)\n",
    "location = location[['location_id','location_name', 'country', 'region', 'latitude', 'longititude',\n",
    "       'timezone_id']]"
   ]
  },
  {
   "cell_type": "code",
   "execution_count": 13,
   "metadata": {},
   "outputs": [
    {
     "name": "stderr",
     "output_type": "stream",
     "text": [
      "C:\\Users\\Nonso\\AppData\\Local\\Temp\\ipykernel_14244\\1105441769.py:3: SettingWithCopyWarning: \n",
      "A value is trying to be set on a copy of a slice from a DataFrame.\n",
      "Try using .loc[row_indexer,col_indexer] = value instead\n",
      "\n",
      "See the caveats in the documentation: https://pandas.pydata.org/pandas-docs/stable/user_guide/indexing.html#returning-a-view-versus-a-copy\n",
      "  weatherDec['weatherDec_id'] = range(1, len(weatherDec) + 1)\n"
     ]
    }
   ],
   "source": [
    "#WeatherDescription Table\n",
    "weatherDec = data_df[['weather_code', 'weather_icons', 'weather_descriptions']].copy().reset_index(drop=True)\n",
    "weatherDec['weatherDec_id'] = range(1, len(weatherDec) + 1)\n",
    "weatherDec = weatherDec[['weatherDec_id','weather_code', 'weather_icons', 'weather_descriptions']]"
   ]
  },
  {
   "cell_type": "code",
   "execution_count": 18,
   "metadata": {},
   "outputs": [],
   "source": [
    "# Weather fact table\n",
    "weather_fact_table = data_df.merge(location, on=['location_name', 'country', 'region', 'latitude', 'longititude','timezone_id'], how='left') \\\n",
    "                            .merge(weatherDec, on=['weather_code', 'weather_icons', 'weather_descriptions'], how='left') \\\n",
    "                            [['location_id','weatherDec_id','localtime','localtime_epoch','utc_offset','observation_time','temperature','wind_speed','wind_degree','wind_dir','pressure', 'precip', 'humidity', 'cloudcover', 'feelslike', 'uv_index','visibility', 'is_day']]\n",
    "\n",
    "weather_fact_table['Unique_id'] = range(1, len(weather_fact_table) + 1)\n",
    "\n",
    "weather_fact_table = weather_fact_table[['Unique_id','location_id','weatherDec_id','localtime','localtime_epoch','utc_offset','observation_time','temperature','wind_speed','wind_degree','wind_dir','pressure', 'precip', 'humidity', 'cloudcover', 'feelslike', 'uv_index','visibility', 'is_day']]"
   ]
  },
  {
   "cell_type": "code",
   "execution_count": 19,
   "metadata": {},
   "outputs": [
    {
     "data": {
      "text/html": [
       "<div>\n",
       "<style scoped>\n",
       "    .dataframe tbody tr th:only-of-type {\n",
       "        vertical-align: middle;\n",
       "    }\n",
       "\n",
       "    .dataframe tbody tr th {\n",
       "        vertical-align: top;\n",
       "    }\n",
       "\n",
       "    .dataframe thead th {\n",
       "        text-align: right;\n",
       "    }\n",
       "</style>\n",
       "<table border=\"1\" class=\"dataframe\">\n",
       "  <thead>\n",
       "    <tr style=\"text-align: right;\">\n",
       "      <th></th>\n",
       "      <th>Unique_id</th>\n",
       "      <th>location_id</th>\n",
       "      <th>weatherDec_id</th>\n",
       "      <th>localtime</th>\n",
       "      <th>localtime_epoch</th>\n",
       "      <th>utc_offset</th>\n",
       "      <th>observation_time</th>\n",
       "      <th>temperature</th>\n",
       "      <th>wind_speed</th>\n",
       "      <th>wind_degree</th>\n",
       "      <th>wind_dir</th>\n",
       "      <th>pressure</th>\n",
       "      <th>precip</th>\n",
       "      <th>humidity</th>\n",
       "      <th>cloudcover</th>\n",
       "      <th>feelslike</th>\n",
       "      <th>uv_index</th>\n",
       "      <th>visibility</th>\n",
       "      <th>is_day</th>\n",
       "    </tr>\n",
       "  </thead>\n",
       "  <tbody>\n",
       "    <tr>\n",
       "      <th>0</th>\n",
       "      <td>1</td>\n",
       "      <td>1</td>\n",
       "      <td>1</td>\n",
       "      <td>2024-12-07 15:33:00</td>\n",
       "      <td>1733585580</td>\n",
       "      <td>1.0</td>\n",
       "      <td>02:33 PM</td>\n",
       "      <td>35</td>\n",
       "      <td>16</td>\n",
       "      <td>175</td>\n",
       "      <td>S</td>\n",
       "      <td>1009</td>\n",
       "      <td>0</td>\n",
       "      <td>42</td>\n",
       "      <td>0</td>\n",
       "      <td>41</td>\n",
       "      <td>5</td>\n",
       "      <td>8</td>\n",
       "      <td>yes</td>\n",
       "    </tr>\n",
       "  </tbody>\n",
       "</table>\n",
       "</div>"
      ],
      "text/plain": [
       "   Unique_id  location_id  weatherDec_id           localtime  localtime_epoch  \\\n",
       "0          1            1              1 2024-12-07 15:33:00       1733585580   \n",
       "\n",
       "  utc_offset observation_time  temperature  wind_speed  wind_degree wind_dir  \\\n",
       "0        1.0         02:33 PM           35          16          175        S   \n",
       "\n",
       "   pressure  precip  humidity  cloudcover  feelslike  uv_index  visibility  \\\n",
       "0      1009       0        42           0         41         5           8   \n",
       "\n",
       "  is_day  \n",
       "0    yes  "
      ]
     },
     "execution_count": 19,
     "metadata": {},
     "output_type": "execute_result"
    }
   ],
   "source": [
    "weather_fact_table"
   ]
  },
  {
   "cell_type": "code",
   "execution_count": 20,
   "metadata": {},
   "outputs": [],
   "source": [
    "# Loading to CSV\n",
    "location.to_csv('location.csv')\n",
    "weatherDec.to_csv('weatherDec.csv')\n",
    "weather_fact_table.to_csv('weather_fact_table.csv')"
   ]
  },
  {
   "cell_type": "markdown",
   "metadata": {},
   "source": [
    "### Data Storage (PostgreSQL)"
   ]
  },
  {
   "cell_type": "code",
   "execution_count": 22,
   "metadata": {},
   "outputs": [],
   "source": [
    "# Develop a function to get the Database connection\n",
    "def get_db_connection():\n",
    "    connection = psycopg2.connect(\n",
    "        host = 'localhost',\n",
    "        database = 'sencrop',\n",
    "        user = 'postgres',\n",
    "        port = '5432',\n",
    "        password = 'Nonsosky@1'\n",
    "    )\n",
    "    return connection\n",
    "\n",
    "#connect to our database\n",
    "conn = get_db_connection()"
   ]
  },
  {
   "cell_type": "code",
   "execution_count": 26,
   "metadata": {},
   "outputs": [
    {
     "name": "stdout",
     "output_type": "stream",
     "text": [
      "<class 'pandas.core.frame.DataFrame'>\n",
      "RangeIndex: 1 entries, 0 to 0\n",
      "Data columns (total 19 columns):\n",
      " #   Column            Non-Null Count  Dtype         \n",
      "---  ------            --------------  -----         \n",
      " 0   Unique_id         1 non-null      int64         \n",
      " 1   location_id       1 non-null      int64         \n",
      " 2   weatherDec_id     1 non-null      int64         \n",
      " 3   localtime         1 non-null      datetime64[ns]\n",
      " 4   localtime_epoch   1 non-null      int64         \n",
      " 5   utc_offset        1 non-null      object        \n",
      " 6   observation_time  1 non-null      object        \n",
      " 7   temperature       1 non-null      int64         \n",
      " 8   wind_speed        1 non-null      int64         \n",
      " 9   wind_degree       1 non-null      int64         \n",
      " 10  wind_dir          1 non-null      object        \n",
      " 11  pressure          1 non-null      int64         \n",
      " 12  precip            1 non-null      int64         \n",
      " 13  humidity          1 non-null      int64         \n",
      " 14  cloudcover        1 non-null      int64         \n",
      " 15  feelslike         1 non-null      int64         \n",
      " 16  uv_index          1 non-null      int64         \n",
      " 17  visibility        1 non-null      int64         \n",
      " 18  is_day            1 non-null      object        \n",
      "dtypes: datetime64[ns](1), int64(14), object(4)\n",
      "memory usage: 284.0+ bytes\n"
     ]
    }
   ],
   "source": [
    "weather_fact_table.info()"
   ]
  },
  {
   "cell_type": "code",
   "execution_count": 35,
   "metadata": {},
   "outputs": [],
   "source": [
    "# Create a function that setups the schema and tables\n",
    "def create_tables():\n",
    "    conn = get_db_connection()\n",
    "    cursor = conn.cursor()\n",
    "    create_table_query = '''\n",
    "                            CREATE SCHEMA IF NOT EXISTS sencrop;\n",
    "\n",
    "                            CREATE TABLE IF NOT EXISTS sencrop.location (\n",
    "                                location_id SERIAL PRIMARY KEY,\n",
    "                                location_name VARCHAR(100000),\n",
    "                                country VARCHAR(100000),\n",
    "                                region VARCHAR(100000),\n",
    "                                latitude VARCHAR(100000),\n",
    "                                longititude VARCHAR(100000),\n",
    "                                timezone_id VARCHAR(10000)\n",
    "                            );\n",
    "\n",
    "                            CREATE TABLE IF NOT EXISTS sencrop.weatherDec (\n",
    "                                weatherDec_id SERIAL PRIMARY KEY,\n",
    "                                weather_code INTEGER,\n",
    "                                weather_icons VARCHAR(100000),\n",
    "                                weather_descriptions VARCHAR(100000)\n",
    "                            );\n",
    "\n",
    "                            CREATE TABLE IF NOT EXISTS sencrop.weather_fact_table (\n",
    "                                Unique_id SERIAL PRIMARY KEY,\n",
    "                                location_id INT,\n",
    "                                weatherDec_id INT,\n",
    "                                local_time TIMESTAMP,\n",
    "                                localtime_epoch INT,\n",
    "                                utc_offset VARCHAR(100000),\n",
    "                                observation_time VARCHAR(100000),\n",
    "                                temperature INT,\n",
    "                                wind_speed INT,\n",
    "                                wind_degree INT,\n",
    "                                wind_dir VARCHAR(100000),\n",
    "                                pressure INT,\n",
    "                                precip INT,\n",
    "                                humidity INT,\n",
    "                                cloudcover INT,\n",
    "                                feelslike INT,\n",
    "                                uv_index INT,\n",
    "                                visibility INT,\n",
    "                                is_day VARCHAR(100000),\n",
    "                                FOREIGN KEY (location_id) REFERENCES sencrop.location(location_id),\n",
    "                                FOREIGN KEY (weatherDec_id) REFERENCES sencrop.weatherDec(weatherDec_id)\n",
    "                            );\n",
    "                            '''\n",
    "    cursor.execute(create_table_query)\n",
    "    conn.commit()\n",
    "    cursor.close()\n",
    "    conn.close()"
   ]
  },
  {
   "cell_type": "code",
   "execution_count": 36,
   "metadata": {},
   "outputs": [],
   "source": [
    "create_tables()"
   ]
  },
  {
   "cell_type": "code",
   "execution_count": 41,
   "metadata": {},
   "outputs": [],
   "source": [
    "## Loading the data into the db tables\n",
    "conn = get_db_connection()\n",
    "cursor = conn.cursor()\n",
    "\n",
    "cursor.execute('SELECT MAX(location_id) FROM sencrop.location')\n",
    "last_id = cursor.fetchone()[0] or 0  # If table is empty, start from 0\n",
    "\n",
    "# Iterate through rows and insert with incremented IDs\n",
    "for i, (_, row) in enumerate(location.iterrows(), start=1):\n",
    "    new_id = last_id + i\n",
    "    cursor.execute(\n",
    "        '''\n",
    "        INSERT INTO sencrop.location(location_id, location_name, country, region, latitude, longititude, timezone_id)\n",
    "        VALUES (%s, %s, %s, %s, %s, %s, %s)\n",
    "        ''',\n",
    "        (new_id, row['location_name'], row['country'], row['region'], row['latitude'], row['longititude'], row['timezone_id'])\n",
    "    )\n",
    "\n",
    "for i, (_, row) in enumerate(weatherDec.iterrows(), start=1):\n",
    "    new_id = last_id + i\n",
    "    cursor.execute(\n",
    "            '''INSERT INTO sencrop.weatherDec(weatherDec_id, weather_code, weather_icons,weather_descriptions)\n",
    "            VALUES (%s, %s, %s, %s)''',\n",
    "            (new_id, row['weather_code'], row['weather_icons'], row['weather_descriptions'])\n",
    ")\n",
    "\n",
    "for i, (_, row) in enumerate(weather_fact_table.iterrows(), start=1):\n",
    "    new_id = last_id + i\n",
    "    cursor.execute(\n",
    "        '''INSERT INTO sencrop.weather_fact_table(Unique_id, location_id, weatherDec_id, local_time,localtime_epoch, utc_offset, observation_time, temperature, wind_speed, wind_degree, wind_dir, pressure, precip, humidity, cloudcover, feelslike, uv_index, visibility,is_day)\n",
    "            VALUES (%s, %s, %s, %s, %s, %s, %s, %s, %s, %s, %s, %s, %s, %s, %s, %s, %s, %s, %s)''',\n",
    "            (new_id, row['location_id'], row['weatherDec_id'], row['localtime'], row['localtime_epoch'], row['utc_offset'], row['observation_time'], row['temperature'], row['wind_speed'], row['wind_degree'], row['wind_dir'], row['pressure'], row['precip'], row['humidity'], row['cloudcover'], row['feelslike'], row['uv_index'], row['visibility'], row['is_day'])\n",
    ")\n",
    "# Commit changes\n",
    "conn.commit()\n",
    "\n",
    "#close connection\n",
    "cursor.close()\n",
    "conn.close()"
   ]
  }
 ],
 "metadata": {
  "kernelspec": {
   "display_name": "base",
   "language": "python",
   "name": "python3"
  },
  "language_info": {
   "codemirror_mode": {
    "name": "ipython",
    "version": 3
   },
   "file_extension": ".py",
   "mimetype": "text/x-python",
   "name": "python",
   "nbconvert_exporter": "python",
   "pygments_lexer": "ipython3",
   "version": "3.12.4"
  }
 },
 "nbformat": 4,
 "nbformat_minor": 2
}
